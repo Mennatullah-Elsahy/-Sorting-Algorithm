{
 "cells": [
  {
   "cell_type": "code",
   "execution_count": 1,
   "id": "8ab76bd4",
   "metadata": {},
   "outputs": [
    {
     "name": "stdout",
     "output_type": "stream",
     "text": [
      "Enter the length of your array and press enter: 12\n",
      "\n",
      "\n",
      "Enter the array items separated by space and press enter: 3 6 2 9 17 1 4 8 5 11 7 10\n",
      "\n",
      "\n",
      "The sorted array is:  [1, 2, 3, 4, 5, 6, 7, 8, 9, 10, 11, 17]\n"
     ]
    }
   ],
   "source": [
    "def Insertion_Sort(arr):\n",
    "        for i in range(1, len(arr)):\n",
    "            j=i\n",
    "            while arr[j-1]>arr[j] and j>0:\n",
    "                arr[j-1],arr[j] = arr[j],arr[j-1]\n",
    "                j -= 1\n",
    "\n",
    "                \n",
    "n = int(input(\"Enter the length of your array and press enter: \"))\n",
    "print(\"\\n\")\n",
    "arr = list(int(num) for num in input(\"Enter the array items separated by space and press enter: \").strip().split())[:n]\n",
    "Insertion_Sort(arr)\n",
    "print(\"\\n\")\n",
    "print(\"The sorted array is: \",arr)\n"
   ]
  }
 ],
 "metadata": {
  "kernelspec": {
   "display_name": "Python 3",
   "language": "python",
   "name": "python3"
  },
  "language_info": {
   "codemirror_mode": {
    "name": "ipython",
    "version": 3
   },
   "file_extension": ".py",
   "mimetype": "text/x-python",
   "name": "python",
   "nbconvert_exporter": "python",
   "pygments_lexer": "ipython3",
   "version": "3.8.8"
  }
 },
 "nbformat": 4,
 "nbformat_minor": 5
}
