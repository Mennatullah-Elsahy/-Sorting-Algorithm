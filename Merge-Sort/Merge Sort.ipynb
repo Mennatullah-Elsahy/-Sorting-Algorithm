{
 "cells": [
  {
   "cell_type": "code",
   "execution_count": 1,
   "id": "d26bd43a",
   "metadata": {},
   "outputs": [
    {
     "name": "stdout",
     "output_type": "stream",
     "text": [
      "Enter the length of your array and press enter: 12\n",
      "\n",
      "\n",
      "Enter the array items separated by space and press enter: 3 6 2 9 17 1 4 8 5 11 7 10\n",
      "\n",
      "\n",
      "The sorted array is:  [1, 2, 3, 4, 5, 6, 7, 8, 9, 10, 11, 17]\n"
     ]
    }
   ],
   "source": [
    "def Merge_Sort(arr):\n",
    "    if len(arr) > 1:\n",
    "        left_arr =arr[:len(arr)//2]\n",
    "        right_arr =arr[len(arr)//2:]\n",
    "        \n",
    "        # recursion\n",
    "        Merge_Sort(left_arr)\n",
    "        Merge_Sort(right_arr)\n",
    "        \n",
    "        # merge\n",
    "        i =0 # left_arr index\n",
    "        j =0 # right_arr index\n",
    "        k =0 # merged_arr index\n",
    "        while i < len (left_arr) and j < len (right_arr):\n",
    "            if left_arr[i] < right_arr[j]:\n",
    "                arr[k] = left_arr[i]\n",
    "                i +=1\n",
    "            else:\n",
    "                arr[k]=right_arr[j]\n",
    "                j +=1\n",
    "            k+=1\n",
    "        while  i < len (left_arr):\n",
    "            arr[k] = left_arr[i]\n",
    "            i +=1\n",
    "            k +=1\n",
    "        while j < len(right_arr):\n",
    "            arr[k]=right_arr[j]\n",
    "            j +=1\n",
    "            k +=1\n",
    "\n",
    "            \n",
    "n = int(input(\"Enter the length of your array and press enter: \"))\n",
    "print(\"\\n\")\n",
    "arr = list(int(num) for num in input(\"Enter the array items separated by space and press enter: \").strip().split())[:n]\n",
    "Merge_Sort(arr)\n",
    "print(\"\\n\")\n",
    "print(\"The sorted array is: \",arr)\n"
   ]
  }
 ],
 "metadata": {
  "kernelspec": {
   "display_name": "Python 3",
   "language": "python",
   "name": "python3"
  },
  "language_info": {
   "codemirror_mode": {
    "name": "ipython",
    "version": 3
   },
   "file_extension": ".py",
   "mimetype": "text/x-python",
   "name": "python",
   "nbconvert_exporter": "python",
   "pygments_lexer": "ipython3",
   "version": "3.8.8"
  }
 },
 "nbformat": 4,
 "nbformat_minor": 5
}
